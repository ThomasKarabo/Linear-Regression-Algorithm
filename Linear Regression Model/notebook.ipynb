{
 "cells": [
  {
   "cell_type": "code",
   "execution_count": 1,
   "id": "d525501c",
   "metadata": {},
   "outputs": [],
   "source": [
    "import numpy as np\n",
    "from linear_regression import LinearRegression"
   ]
  },
  {
   "cell_type": "code",
   "execution_count": 2,
   "id": "0dd898ef",
   "metadata": {},
   "outputs": [
    {
     "name": "stdout",
     "output_type": "stream",
     "text": [
      "X shape: (3, 4)\n",
      "y shape: (3,)\n"
     ]
    }
   ],
   "source": [
    "# X: 3 samples, 4 features\n",
    "X = np.array([\n",
    "    [1, 2, 3, 4],   # Sample 1\n",
    "    [5, 6, 7, 8],   # Sample 2\n",
    "    [9, 10, 11, 12]  # Sample 3\n",
    "])\n",
    "\n",
    "# y = 1.5*x1 + 0.5*x2 - 2*x3 + 3*x4 + 1\n",
    "y = np.array([9.5, 21.5, 33.5])\n",
    "\n",
    "print(\"X shape:\", X.shape) \n",
    "print(\"y shape:\", y.shape) "
   ]
  },
  {
   "cell_type": "code",
   "execution_count": 3,
   "id": "2f458707",
   "metadata": {},
   "outputs": [],
   "source": [
    "model = LinearRegression(learning_rate=0.01, n_iterations=2000)\n",
    "model.fit(X, y)"
   ]
  },
  {
   "cell_type": "code",
   "execution_count": 4,
   "id": "78079bc2",
   "metadata": {},
   "outputs": [
    {
     "name": "stdout",
     "output_type": "stream",
     "text": [
      "Learned weights: [-2.20872130e+132 -2.54360217e+132 -2.87848303e+132 -3.21336389e+132]\n",
      "Learned bias: -3.348808619738181e+131\n"
     ]
    }
   ],
   "source": [
    "print(\"Learned weights:\", model.weights)  # Expected ≈ [1.5, 0.5, -2, 3]\n",
    "print(\"Learned bias:\", model.bias) "
   ]
  },
  {
   "cell_type": "code",
   "execution_count": 5,
   "id": "3f771286",
   "metadata": {},
   "outputs": [
    {
     "name": "stdout",
     "output_type": "stream",
     "text": [
      "Prediction for X_new: [-5.79045414e+133]\n"
     ]
    }
   ],
   "source": [
    "X_new = np.array([[2, 4, 6, 8]]) \n",
    "y_pred = model.predict(X_new)\n",
    "print(\"Prediction for X_new:\", y_pred)"
   ]
  }
 ],
 "metadata": {
  "kernelspec": {
   "display_name": "Python 3",
   "language": "python",
   "name": "python3"
  },
  "language_info": {
   "codemirror_mode": {
    "name": "ipython",
    "version": 3
   },
   "file_extension": ".py",
   "mimetype": "text/x-python",
   "name": "python",
   "nbconvert_exporter": "python",
   "pygments_lexer": "ipython3",
   "version": "3.13.2"
  }
 },
 "nbformat": 4,
 "nbformat_minor": 5
}
